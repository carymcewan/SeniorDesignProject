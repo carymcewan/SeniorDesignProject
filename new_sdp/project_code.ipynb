{
 "cells": [
  {
   "cell_type": "code",
   "execution_count": 1,
   "metadata": {},
   "outputs": [],
   "source": [
    "from util import *\n",
    "import numpy as np\n",
    "import cv2\n",
    "from scipy import ndimage\n",
    "\n",
    "#PATH_PLY = \"caryTest.ply\"\n",
    "#PATH_IMAGES = \"imagesCylinder/\"\n",
    "imfile = \"/home/isaias/Documents/imagesCylinder/image1.jpg\"\n",
    "PATH_PLY = \"/home/isaias/Documents/tape_ball.ply\"\n",
    "PATH_IMAGES = \"/home/isaias/Pictures/imagesTapeBall/\""
   ]
  },
  {
   "cell_type": "code",
   "execution_count": 2,
   "metadata": {},
   "outputs": [],
   "source": [
    "def init_ply():\n",
    "    # Write the file header. \n",
    "    headers = ['ply\\n', 'format ascii 1.0\\n', 'element vertex 0\\n', \n",
    "               'property float32 x\\n', 'property float32 y\\n',\n",
    "               'property float32 z\\n', 'end_header']\n",
    "               \n",
    "    # Create ply file\n",
    "    with open(PATH_PLY, 'w') as file:\n",
    "        file.writelines(headers)\n",
    "        \n",
    "def pcl_rotate(theta, pcl_arr):\n",
    "    r = np.array([[np.cos(theta), -np.sin(theta), 0],\n",
    "                  [np.sin(theta), np.cos(theta), 0],\n",
    "                  [0, 0, 1]])\n",
    "                  \n",
    "    return r.dot(pcl_arr)\n",
    "\n",
    "def load_image(path):\n",
    "    image = cv2.imread(path)\n",
    "    return cv2.cvtColor(image, cv2.COLOR_BGR2RGB)"
   ]
  },
  {
   "cell_type": "code",
   "execution_count": 3,
   "metadata": {},
   "outputs": [],
   "source": [
    "def append_ply(pcl):\n",
    "\n",
    "    with open(PATH_PLY, 'a') as file:\n",
    "        file.write('\\n')\n",
    "        \n",
    "        length = pcl.shape[1]\n",
    "        for index in range(length-1):\n",
    "            x = pcl[0][index]\n",
    "            y = pcl[1][index]\n",
    "            z = pcl[2][index]\n",
    "            \n",
    "            file.write(\"{} {} {}\\n\".format(x, y, z))\n",
    "            \n",
    "        last_x = pcl[0][-1]\n",
    "        last_y = pcl[1][-1]\n",
    "        last_z = pcl[2][-1]\n",
    "        file.write(\"{} {} {}\".format(last_x, last_y, last_z))"
   ]
  },
  {
   "cell_type": "code",
   "execution_count": 4,
   "metadata": {},
   "outputs": [],
   "source": [
    "def update_vertex_count_ply(updated_vertex_count):\n",
    "\n",
    "    file = open(PATH_PLY)\n",
    "\n",
    "    lines = file.readlines()\n",
    "\n",
    "    # Element vertex line is always the third line in the file. We split the spaces to get the vertex value\n",
    "    # ie. if the line is \"element vertex 35\", we want \"35\"\n",
    "    # we then replace this value with our updated vertex count\n",
    "    element_vertex_line_array = lines[2].split(\" \")\n",
    "    element_vertex_line_array[2] = str(updated_vertex_count)\n",
    "    new_line = \" \".join(element_vertex_line_array) + \"\\n\"\n",
    "    lines[2] = new_line\n",
    "    file.close()\n",
    "\n",
    "    # Now write the original lines back to the file, this time with then updated vertex count\n",
    "    new_file = open(PATH_PLY, \"w\")\n",
    "    new_file.writelines(lines)\n",
    "    new_file.close()"
   ]
  },
  {
   "cell_type": "code",
   "execution_count": 20,
   "metadata": {},
   "outputs": [],
   "source": [
    "def r_rgb(image):\n",
    "    return cv2.split(image)[0]\n",
    "    "
   ]
  },
  {
   "cell_type": "code",
   "execution_count": 40,
   "metadata": {},
   "outputs": [],
   "source": [
    "def point_detection(image1, image2):\n",
    "\n",
    "    #imlaser = r_rgb(np.rot90(np.rot90(image1)))\n",
    "\n",
    "    #imbk = r_rgb(np.rot90(np.rot90(image2)))\n",
    "    \n",
    "    #imsub = r_rgb(cv2.subtract(imlaser,imbk))\n",
    "    im_rotated = np.rot90(np.rot90(image1))\n",
    "    r, g, b = cv2.split(im_rotated)\n",
    "    imsub = cv2.subtract(r, cv2.divide(cv2.add(g, b), 2))\n",
    "    start_px = 0\n",
    "    #stop_px = 2464\n",
    "    stop_px = imsub.shape[0]\n",
    "    sample_rate = 5\n",
    "    threshold = 50\n",
    "    \n",
    "    threshold = np.uint8(threshold)\n",
    "    \n",
    "    pcl = np.zeros((3,5000))\n",
    "    \n",
    "    pcl_count = 0\n",
    "    y = 0\n",
    "    #r, g, b = cv2.split(im_rotated)\n",
    "\n",
    "    #imsub = cv2.subtract(r, cv2.divide(cv2.add(g, b), 2))\n",
    "\n",
    "    for z in range(start_px, stop_px, sample_rate):\n",
    "        intensity = np.amax(imsub[z,:])\n",
    "        \n",
    "        if intensity > threshold:\n",
    "            x = np.argmax(imsub[z,:])\n",
    "            pcl[:, pcl_count] = np.array([x,y,z])\n",
    "            pcl_count += 1\n",
    "    return pcl[:, :pcl_count]"
   ]
  },
  {
   "cell_type": "code",
   "execution_count": 41,
   "metadata": {},
   "outputs": [],
   "source": [
    "PATH_PLY = \"/home/isaias/Documents/tape_ball.ply\"\n",
    "PATH_IMAGES = \"/home/isaias/Pictures/imagesTapeBall/\"\n",
    "def main():\n",
    "\n",
    "    init_ply()\n",
    "    vcount = 0\n",
    "    \n",
    "    # bigPCL = np.zeros(0)\n",
    "    \n",
    "    for i in range(1, 401):\n",
    "\n",
    "        imfile = PATH_IMAGES + \"image\" + str(i) + \".jpg\"\n",
    "        imfile2 = PATH_IMAGES + \"image\" + str(i) + \"_laserOff.jpg\"\n",
    "        theta = (i)*(np.pi/200)\n",
    "\n",
    "        image_laser = load_image(imfile)\n",
    "        image_bk = load_image(imfile2)\n",
    "\n",
    "        pcl = point_detection(image_laser, image_bk)\n",
    "        \n",
    "        diff = np.zeros((3, pcl.shape[1]))\n",
    "        \n",
    "        diff[0].fill(1751)\n",
    "        \n",
    "        pcl -= diff\n",
    "        \n",
    "        rot = pcl_rotate(theta, pcl)\n",
    "                \n",
    "        # Save us time from opening a file if there aren't any points to write.\n",
    "        if rot.size != 0:\n",
    "            append_ply(rot)\n",
    "            \n",
    "        vcount += pcl.shape[1]\n",
    "        #print(\"Processed image DOG {} with {} points.\".format(i, rot.shape[1]))\n",
    "\n",
    "    update_vertex_count_ply(vcount)"
   ]
  },
  {
   "cell_type": "code",
   "execution_count": 42,
   "metadata": {},
   "outputs": [
    {
     "name": "stdout",
     "output_type": "stream",
     "text": [
      "Time: 0:00:26.083989\n"
     ]
    }
   ],
   "source": [
    "begin()\n",
    "main()\n",
    "end()"
   ]
  },
  {
   "cell_type": "code",
   "execution_count": null,
   "metadata": {},
   "outputs": [],
   "source": []
  }
 ],
 "metadata": {
  "kernelspec": {
   "display_name": "cv",
   "language": "python",
   "name": "cv"
  },
  "language_info": {
   "codemirror_mode": {
    "name": "ipython",
    "version": 3
   },
   "file_extension": ".py",
   "mimetype": "text/x-python",
   "name": "python",
   "nbconvert_exporter": "python",
   "pygments_lexer": "ipython3",
   "version": "3.5.2"
  }
 },
 "nbformat": 4,
 "nbformat_minor": 2
}
