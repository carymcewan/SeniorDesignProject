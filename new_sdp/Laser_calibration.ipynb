{
 "cells": [
  {
   "cell_type": "code",
   "execution_count": 51,
   "metadata": {},
   "outputs": [],
   "source": [
    "%matplotlib inline\n",
    "import cv2\n",
    "import numpy as np\n",
    "from util import *\n",
    "from libply import *\n",
    "from glob import glob"
   ]
  },
  {
   "cell_type": "code",
   "execution_count": 71,
   "metadata": {},
   "outputs": [],
   "source": [
    "# U = X , V = Z, Row of 1s\n",
    "\n",
    "K = np.array(\n",
    "[[  3.24171244e+03,   0.00000000e+00,   1.06029763e+03],\n",
    " [  0.00000000e+00,   3.25977353e+03,   1.94331846e+03],\n",
    " [  0.00000000e+00,   0.00000000e+00,   1.00000000e+00]])\n",
    "\n",
    "fx = K[0][0]\n",
    "fy = K[1][1]\n",
    "cx = K[0][2]\n",
    "cy = K[1][2]\n",
    "\n"
   ]
  },
  {
   "cell_type": "code",
   "execution_count": 73,
   "metadata": {},
   "outputs": [],
   "source": [
    "#images_laser = glob(\"/home/isaias/Pictures/checkboardRotation/image[0-9].jpg\")\n",
    "#images_background = glob(\"home/isaias/Pictures/checkboardRotation/*_laserOff.jpg\")\n",
    " \n",
    "IMPATH = \"/home/isaias/Pictures/imagesTapeBall/image\"\n",
    "\n",
    "total_points = []\n",
    "xmats = []\n",
    "\n",
    "for i in range(1, round(len(images) /2) + 1):\n",
    "    image_laser = load_image(IMPATH + str(i) + \".jpg\")\n",
    "    image_background = load_image(IMPATH + str(i) + \"_laserOff.jpg\")\n",
    "    \n",
    "    points = point_detection(image_laser, image_background)\n",
    "    \n",
    "    points = points[np.r_[0, 2, 1]]\n",
    "    points[2, :] = 1\n",
    "    \n",
    "    x = np.matrix([[(y - cx) / fx], [(z - cy) / fy], [1]])\n",
    "    \n",
    "    xmats.append(x) \n",
    "    total_points.append(points)\n",
    "    \n",
    "    \n",
    "    "
   ]
  },
  {
   "cell_type": "code",
   "execution_count": 74,
   "metadata": {},
   "outputs": [
    {
     "data": {
      "text/plain": [
       "matrix([[-0.32707948],\n",
       "        [-0.26637386],\n",
       "        [ 1.        ]])"
      ]
     },
     "execution_count": 74,
     "metadata": {},
     "output_type": "execute_result"
    }
   ],
   "source": [
    "xmats[0]"
   ]
  },
  {
   "cell_type": "code",
   "execution_count": null,
   "metadata": {},
   "outputs": [],
   "source": []
  }
 ],
 "metadata": {
  "kernelspec": {
   "display_name": "cv",
   "language": "python",
   "name": "cv"
  },
  "language_info": {
   "codemirror_mode": {
    "name": "ipython",
    "version": 3
   },
   "file_extension": ".py",
   "mimetype": "text/x-python",
   "name": "python",
   "nbconvert_exporter": "python",
   "pygments_lexer": "ipython3",
   "version": "3.5.2"
  }
 },
 "nbformat": 4,
 "nbformat_minor": 2
}
